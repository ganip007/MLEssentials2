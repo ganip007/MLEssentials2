{
  "cells": [
    {
      "cell_type": "markdown",
      "metadata": {
        "id": "view-in-github",
        "colab_type": "text"
      },
      "source": [
        "<a href=\"https://colab.research.google.com/github/ganip007/MLEssentials2/blob/main/classifications/classification-1-credit-card-default.ipynb\" target=\"_parent\"><img src=\"https://colab.research.google.com/assets/colab-badge.svg\" alt=\"Open In Colab\"/></a>"
      ]
    },
    {
      "cell_type": "markdown",
      "metadata": {
        "id": "ioQllDDHlLDQ"
      },
      "source": [
        "# Classification Exercise - Credit Card Defaults\n",
        "\n",
        "We will use credit card default data from https://www.kaggle.com/datasets/uciml/default-of-credit-card-clients-dataset\n"
      ]
    },
    {
      "cell_type": "code",
      "execution_count": null,
      "metadata": {
        "id": "hNNMaMAHk8pq"
      },
      "outputs": [],
      "source": [
        "import numpy as np\n",
        "import pandas as pd\n",
        "import matplotlib.pyplot as plt\n",
        "import seaborn as sns\n",
        "\n",
        "pd.options.display.float_format = '{:,.2f}'.format"
      ]
    },
    {
      "cell_type": "markdown",
      "metadata": {
        "id": "IVfT952YltQZ"
      },
      "source": [
        "## Step-1: Download Data"
      ]
    },
    {
      "cell_type": "code",
      "execution_count": null,
      "metadata": {
        "id": "Pq-p7ssilZdE"
      },
      "outputs": [],
      "source": [
        "import os\n",
        "import urllib.request\n",
        "\n",
        "data_url = 'https://raw.githubusercontent.com/elephantscale/datasets/master/credit-card-default/default2.csv'\n",
        "data_location = os.path.basename(data_url)\n",
        "\n",
        "if not os.path.exists (data_location):\n",
        "    print(\"Downloading : \", data_url)\n",
        "    urllib.request.urlretrieve(data_url, data_location)\n",
        "print('data_location:', data_location)"
      ]
    },
    {
      "cell_type": "code",
      "execution_count": null,
      "metadata": {
        "id": "gDYImJcJlyjl"
      },
      "outputs": [],
      "source": [
        "data = pd.read_csv(data_location)\n",
        "data.sample(10)"
      ]
    },
    {
      "cell_type": "markdown",
      "metadata": {
        "id": "FLVjKutTmS7w"
      },
      "source": [
        "## Step-2: EDA"
      ]
    },
    {
      "cell_type": "code",
      "execution_count": null,
      "metadata": {
        "id": "J8urGA1nl0gH"
      },
      "outputs": [],
      "source": [
        "## TODO: data.describe()\n",
        "data.???()"
      ]
    },
    {
      "cell_type": "code",
      "execution_count": null,
      "metadata": {
        "id": "awy4QJnenY3l"
      },
      "outputs": [],
      "source": [
        "## Check data skew\n",
        "data['default'].value_counts()"
      ]
    },
    {
      "cell_type": "code",
      "execution_count": null,
      "metadata": {
        "id": "-JPC-ViYIwTu"
      },
      "outputs": [],
      "source": [
        "data['default'].value_counts(normalize=True)"
      ]
    },
    {
      "cell_type": "code",
      "execution_count": null,
      "metadata": {
        "id": "9XCzrsFgomax"
      },
      "outputs": [],
      "source": [
        "## TODO: correlation matrix\n",
        "## Hint: data.corr()\n",
        "data.???()"
      ]
    },
    {
      "cell_type": "code",
      "execution_count": null,
      "metadata": {
        "id": "DBngZ5G1pdDU"
      },
      "outputs": [],
      "source": [
        "plt.figure(figsize = (30,10))\n",
        "\n",
        "#sns.set_context(\"talk\", font_scale=0.9) \n",
        "sns.heatmap(data.corr(), cmap='rainbow_r', annot=True, fmt='.2f')"
      ]
    },
    {
      "cell_type": "markdown",
      "metadata": {
        "id": "FUKVrI47sAZO"
      },
      "source": [
        "## Step-3: Clean up \n",
        "\n",
        "TODO"
      ]
    },
    {
      "cell_type": "markdown",
      "metadata": {
        "id": "F3x3Ur41sIKC"
      },
      "source": [
        "## Step-4: Shape data"
      ]
    },
    {
      "cell_type": "code",
      "execution_count": null,
      "metadata": {
        "id": "C1QjYZz1r4l8"
      },
      "outputs": [],
      "source": [
        "label_col = 'default'\n",
        "\n",
        "feature_columns = data.columns\n",
        "## TODO : drop 'ID' and 'default' columns\n",
        "feature_columns = feature_columns.drop (['ID', '???'])\n",
        "#print (feature_columns)"
      ]
    },
    {
      "cell_type": "code",
      "execution_count": null,
      "metadata": {
        "id": "9kCuOXtGsGd6"
      },
      "outputs": [],
      "source": [
        "X = data[feature_columns]\n",
        "y = data[[label_col]]\n",
        "\n",
        "print (X.shape)\n",
        "print (y.shape)"
      ]
    },
    {
      "cell_type": "code",
      "execution_count": null,
      "metadata": {
        "id": "qT7gRx7DtI6Q"
      },
      "outputs": [],
      "source": [
        "from sklearn.model_selection import train_test_split\n",
        "\n",
        "## TODO : split data into train / test, with 20% for test\n",
        "## hint : 20% is 0.2\n",
        "\n",
        "X_train,X_test,y_train, y_test = train_test_split(X,y,  test_size=???, random_state=123)\n",
        "\n",
        "\n",
        "print (\"x_train :\" , X_train.shape )\n",
        "print (\"x_test :\", X_test.shape)\n",
        "print (\"y_train :\", y_train.shape)\n",
        "print (\"y_test :\", y_test.shape)"
      ]
    },
    {
      "cell_type": "markdown",
      "metadata": {
        "id": "1tybhfVXtlNN"
      },
      "source": [
        "## Step-5: Classification Algo"
      ]
    },
    {
      "cell_type": "code",
      "execution_count": null,
      "metadata": {
        "id": "g3GHYno1te-w"
      },
      "outputs": [],
      "source": [
        "%%time\n",
        "\n",
        "import numpy as np\n",
        "from sklearn.linear_model import LogisticRegression\n",
        "from sklearn.ensemble import RandomForestClassifier\n",
        "from sklearn.svm import LinearSVC\n",
        "from sklearn.ensemble import GradientBoostingClassifier\n",
        "\n",
        "#algo = LogisticRegression(max_iter=500)\n",
        "algo = RandomForestClassifier()\n",
        "#algo = LinearSVC(max_iter=5000)\n",
        "#algo = GradientBoostingClassifier()\n",
        "\n",
        "\n",
        "## TODO: fit (X_train, y_train)\n",
        "model = algo.fit(X_???, np.ravel(y_???))\n",
        "print (model)"
      ]
    },
    {
      "cell_type": "markdown",
      "metadata": {
        "id": "7BPibCyyuR26"
      },
      "source": [
        "## Step-6 : Evaluate"
      ]
    },
    {
      "cell_type": "code",
      "execution_count": null,
      "metadata": {
        "id": "-YLUHLhyt8WB"
      },
      "outputs": [],
      "source": [
        "## TODO : predict on X_test\n",
        "## hint : 'X_test'\n",
        "\n",
        "y_pred = model.predict (X_???)\n",
        "y_pred"
      ]
    },
    {
      "cell_type": "code",
      "execution_count": null,
      "metadata": {
        "id": "j0TG9t3XwZHj"
      },
      "outputs": [],
      "source": [
        "# values, counts = np.unique(y_pred, return_counts=True)\n",
        "# print (values, counts)\n",
        "# pd.DataFrame({'values' : values, 'counts' : counts})"
      ]
    },
    {
      "cell_type": "code",
      "execution_count": null,
      "metadata": {
        "id": "7FfSXWq8ujEx"
      },
      "outputs": [],
      "source": [
        "train_accuracy = model.score(X_train,y_train)\n",
        "print (\"Train accuracy: \", train_accuracy)"
      ]
    },
    {
      "cell_type": "code",
      "execution_count": null,
      "metadata": {
        "id": "s5yI6PeTuoJx"
      },
      "outputs": [],
      "source": [
        "## TODO : calculate accuracty for test set\n",
        "## Hint : model.score (X_test, y_test)\n",
        "\n",
        "test_accuracy = model.score(X_test, y_???)\n",
        "print (\"Test accuracy: \", test_accuracy)"
      ]
    },
    {
      "cell_type": "code",
      "execution_count": null,
      "metadata": {
        "id": "ivbRQVBkuysg"
      },
      "outputs": [],
      "source": [
        "from sklearn.metrics import confusion_matrix\n",
        "import numpy as np\n",
        "\n",
        "cm_labels = np.unique(y)\n",
        "cm_array = confusion_matrix(y_test, y_pred)\n",
        "#print (cm_array)\n",
        "\n",
        "cm_df = pd.DataFrame(cm_array, index=cm_labels, columns=cm_labels)\n",
        "cm_df"
      ]
    },
    {
      "cell_type": "code",
      "execution_count": null,
      "metadata": {
        "id": "pK1U05-gu3iQ"
      },
      "outputs": [],
      "source": [
        "import matplotlib.pyplot as plt\n",
        "import seaborn as sns\n",
        "\n",
        "plt.figure(figsize = (8,5))\n",
        "\n",
        "# colormaps : cmap=\"YlGnBu\" , cmap=\"Greens\", cmap=\"Blues\",  cmap=\"Reds\"\n",
        "sns.heatmap(cm_df, annot=True, cmap=\"Reds\", fmt='d').plot()"
      ]
    }
  ],
  "metadata": {
    "colab": {
      "collapsed_sections": [],
      "name": "classification-1-credit-card-default.ipynb",
      "provenance": [],
      "include_colab_link": true
    },
    "kernelspec": {
      "display_name": "Python 3 (ipykernel)",
      "language": "python",
      "name": "python3"
    },
    "language_info": {
      "codemirror_mode": {
        "name": "ipython",
        "version": 3
      },
      "file_extension": ".py",
      "mimetype": "text/x-python",
      "name": "python",
      "nbconvert_exporter": "python",
      "pygments_lexer": "ipython3",
      "version": "3.8.13"
    }
  },
  "nbformat": 4,
  "nbformat_minor": 0
}